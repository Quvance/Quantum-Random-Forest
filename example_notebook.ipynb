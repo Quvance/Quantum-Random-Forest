{
 "cells": [
  {
   "cell_type": "markdown",
   "id": "e761431a",
   "metadata": {},
   "source": [
    "# Running the QRF Model \n",
    "\n",
    "\n",
    "    The model is based off the paper Srikumar et al., \"A kernel-based quantum random forest for improved classification\", (2022). The code is intended for research purposes and the development of proof of concepts. For questions about the code, please email maiyuren.s@gmail.com for clarification."
   ]
  },
  {
   "cell_type": "code",
   "execution_count": 1,
   "id": "030c8dd4",
   "metadata": {},
   "outputs": [],
   "source": [
    "from quantum_random_forest import QuantumRandomForest, set_multiprocessing\n",
    "from split_function import SplitCriterion\n",
    "from data_construction import data_preprocessing\n",
    "import numpy as np\n",
    "import matplotlib.pyplot as plt\n",
    "from sklearn import metrics, datasets"
   ]
  },
  {
   "cell_type": "markdown",
   "id": "5edb5a0e",
   "metadata": {},
   "source": [
    "## Load dataset\n",
    "\n",
    "Here you can load your own dataset. The preprocessing can be left untouched. However, it is important to note that certain embeddings require data of certain dimension. PCA reduction to the required dimension can be achieved by changing the X_dim variable. "
   ]
  },
  {
   "cell_type": "code",
   "execution_count": 2,
   "id": "9b293443",
   "metadata": {},
   "outputs": [],
   "source": [
    "data = datasets.load_breast_cancer()\n",
    "num_classes = 2\n",
    "X, y = data.data, data.target"
   ]
  },
  {
   "cell_type": "markdown",
   "id": "0fd2a4a6",
   "metadata": {},
   "source": [
    "### Data pre-processing"
   ]
  },
  {
   "cell_type": "code",
   "execution_count": 3,
   "id": "8a02e59d",
   "metadata": {},
   "outputs": [
    {
     "name": "stdout",
     "output_type": "stream",
     "text": [
      "New datapoint dimension: 6\n"
     ]
    }
   ],
   "source": [
    "training_set, testing_set = data_preprocessing(X, y, \n",
    "                                               train_prop=0.75,        # Proportion of dataset allocated for training\n",
    "                                               X_dim=6)                # Determine the required dimension of the dataset. None for default."
   ]
  },
  {
   "cell_type": "markdown",
   "id": "fa2f4723",
   "metadata": {},
   "source": [
    "## Model parameters "
   ]
  },
  {
   "cell_type": "code",
   "execution_count": 4,
   "id": "1b4f0ae9",
   "metadata": {},
   "outputs": [],
   "source": [
    "n_qubits = 6                                         # Number of qubits for the embedding\n",
    "dt_type = 'qke'                                      # Do not touch\n",
    "ensemble_var = None                                  # Do not touch\n",
    "branch_var = ['eff_anz_pqc_arch', \n",
    "              'iqp_anz_pqc_arch', \n",
    "              'eff_anz_pqc_arch']                    # Type of Anzatz, or as a list for different down the tree - as given \n",
    "num_trees = 3                                        # Number of trees in ensemble \n",
    "split_num = 2                                        # Do not touch\n",
    "pqc_sample_num = 2024                                # Number of circuit samples per kernel estimation\n",
    "num_classes = num_classes                            # Number of classes in dataset\n",
    "max_depth = 4                                        # Maximum depth of the tree\n",
    "num_params_split = n_qubits*(n_qubits +1)            # Number of parameters in the embedding (different for different anzatz), list for different down the tree [2 * n_qubits ** 2 , n_qubits*(n_qubits +1), 2 * n_qubits ** 2]\n",
    "num_rand_gen = 1                                     # Do not touch\n",
    "num_rand_meas_q = n_qubits                           # Do not touch \n",
    "svm_num_train = 5                                    # L, Number of Landmarks\n",
    "svm_c = 10                                           # C term in SVM optimisation, or list down the tree [100, 50, 20]\n",
    "min_samples_split = svm_num_train                    # Minimum number of samples\n",
    "embedding_type = ['as_params_all', \n",
    "                  'as_params_iqp', \n",
    "                  'as_params_all']                   # Type of embedding, or as a list - as given\n",
    "criterion = SplitCriterion.init_info_gain('clas')    # Do not touch\n",
    "device = 'cirq'                                      # Choose a device. Also possible to run on IBM"
   ]
  },
  {
   "cell_type": "markdown",
   "id": "00eb2618",
   "metadata": {},
   "source": [
    "## Set up model"
   ]
  },
  {
   "cell_type": "code",
   "execution_count": 5,
   "id": "1cf637ea",
   "metadata": {},
   "outputs": [],
   "source": [
    "qrf = QuantumRandomForest(n_qubits, 'clas', num_trees, criterion, max_depth=max_depth, \n",
    "                          min_samples_split=min_samples_split, tree_split_num=split_num, num_rand_meas_q=num_rand_meas_q,\n",
    "                          ensemble_var=ensemble_var, dt_type=dt_type, num_classes=num_classes, ensemble_vote_type='ave',\n",
    "                          num_params_split=num_params_split, num_rand_gen=num_rand_gen, pqc_sample_num=pqc_sample_num,\n",
    "                          embed=embedding_type, branch_var=branch_var, svm_num_train=svm_num_train, svm_c=svm_c, \n",
    "                          nystrom_approx=True, device=device)"
   ]
  },
  {
   "cell_type": "markdown",
   "id": "a73cce5f",
   "metadata": {},
   "source": [
    "## Train"
   ]
  },
  {
   "cell_type": "code",
   "execution_count": 1,
   "id": "3524efd1",
   "metadata": {},
   "outputs": [],
   "source": [
    "cores = 3\n",
    "set_multiprocessing(True, cores)                   # Set to False if you don't want parallel computation\n",
    "qrf.train(training_set, \n",
    "          partition_sample_size=180)               # Partition size is the number of instances given to each tree. Set to None to use all the data for all trees"
   ]
  },
  {
   "cell_type": "markdown",
   "id": "5fe8c825",
   "metadata": {},
   "source": [
    "## Test"
   ]
  },
  {
   "cell_type": "code",
   "execution_count": 2,
   "id": "bc2b7589",
   "metadata": {
    "scrolled": true
   },
   "outputs": [],
   "source": [
    "acc, preds_qrf = qrf.test(testing_set, \n",
    "                          ret_pred=True, \n",
    "                          parallel=False,            # Set to False if you don't want parallel computation. Needs to be False for calc_tree_corr to be True.\n",
    "                          calc_tree_corr=True)       # True is required to later look at correlations between trees"
   ]
  },
  {
   "cell_type": "code",
   "execution_count": 11,
   "id": "59f3a924",
   "metadata": {},
   "outputs": [
    {
     "name": "stdout",
     "output_type": "stream",
     "text": [
      "Classification report for QRF:\n",
      "              precision    recall  f1-score   support\n",
      "\n",
      "           0       0.85      0.80      0.83        51\n",
      "           1       0.89      0.92      0.91        92\n",
      "\n",
      "    accuracy                           0.88       143\n",
      "   macro avg       0.87      0.86      0.87       143\n",
      "weighted avg       0.88      0.88      0.88       143\n",
      "\n",
      "\n"
     ]
    }
   ],
   "source": [
    "# Classification report\n",
    "print(f\"Classification report for QRF:\\n\"\n",
    "      f\"{metrics.classification_report(testing_set.y, preds_qrf)}\\n\")"
   ]
  },
  {
   "cell_type": "markdown",
   "id": "471fe93f",
   "metadata": {},
   "source": [
    "## Further analysis of model"
   ]
  },
  {
   "cell_type": "code",
   "execution_count": 12,
   "id": "6ffdafc5",
   "metadata": {},
   "outputs": [
    {
     "name": "stdout",
     "output_type": "stream",
     "text": [
      "\n",
      " ---------------------------------------- \n",
      "\n",
      "`- () - 180 instances\n",
      "   |- () - 124 instances\n",
      "   |  |- () - 12 instances\n",
      "   |  |  |- ({0: 0.91, 1: 0.09}) - 11 instances\n",
      "   |  |  `- ({0: 0.0, 1: 1.0}) - 1 instances\n",
      "   |  `- () - 112 instances\n",
      "   |     |- ({0: 0.08, 1: 0.92}) - 112 instances\n",
      "   |     `- ({0: 0.08, 1: 0.92}) - 0 instances\n",
      "   `- () - 56 instances\n",
      "      |- ({0: 0.0, 1: 1.0}) - 4 instances\n",
      "      `- () - 52 instances\n",
      "         |- ({0: 0.92, 1: 0.08}) - 50 instances\n",
      "         `- ({0: 0.0, 1: 1.0}) - 2 instances\n",
      "\n",
      " ---------------------------------------- \n",
      "\n",
      "`- () - 180 instances\n",
      "   |- () - 98 instances\n",
      "   |  |- () - 82 instances\n",
      "   |  |  |- ({0: 0.04, 1: 0.96}) - 80 instances\n",
      "   |  |  `- ({0: 1.0, 1: 0.0}) - 2 instances\n",
      "   |  `- () - 16 instances\n",
      "   |     |- ({0: 0.0, 1: 1.0}) - 2 instances\n",
      "   |     `- ({0: 0.93, 1: 0.07}) - 14 instances\n",
      "   `- () - 82 instances\n",
      "      |- () - 63 instances\n",
      "      |  |- ({0: 0.9, 1: 0.1}) - 60 instances\n",
      "      |  `- ({0: 0.33, 1: 0.67}) - 3 instances\n",
      "      `- () - 19 instances\n",
      "         |- ({0: 0.12, 1: 0.88}) - 16 instances\n",
      "         `- ({0: 1.0, 1: 0.0}) - 3 instances\n",
      "\n",
      " ---------------------------------------- \n",
      "\n",
      "`- () - 180 instances\n",
      "   |- () - 106 instances\n",
      "   |  |- () - 106 instances\n",
      "   |  |  |- ({0: 0.04, 1: 0.96}) - 104 instances\n",
      "   |  |  `- ({0: 1.0, 1: 0.0}) - 2 instances\n",
      "   |  `- ({0: 0.06, 1: 0.94}) - 0 instances\n",
      "   `- () - 74 instances\n",
      "      |- () - 69 instances\n",
      "      |  |- ({0: 0.94, 1: 0.06}) - 66 instances\n",
      "      |  `- ({0: 0.0, 1: 1.0}) - 3 instances\n",
      "      `- ({0: 0.0, 1: 1.0}) - 5 instances\n"
     ]
    }
   ],
   "source": [
    "# Print out tree\n",
    "qrf.print_trees()"
   ]
  },
  {
   "cell_type": "code",
   "execution_count": 13,
   "id": "76260580",
   "metadata": {},
   "outputs": [
    {
     "name": "stdout",
     "output_type": "stream",
     "text": [
      "Class 0\n"
     ]
    },
    {
     "data": {
      "image/png": "[encoded data removed]",
      "text/plain": [
       "<Figure size 432x288 with 2 Axes>"
      ]
     },
     "metadata": {
      "needs_background": "light"
     },
     "output_type": "display_data"
    },
    {
     "name": "stdout",
     "output_type": "stream",
     "text": [
      "Class 1\n"
     ]
    },
    {
     "data": {
      "image/png": "[encoded data removed]",
      "text/plain": [
       "<Figure size 432x288 with 2 Axes>"
      ]
     },
     "metadata": {
      "needs_background": "light"
     },
     "output_type": "display_data"
    }
   ],
   "source": [
    "corr_dict = qrf.compute_tree_correlation()\n",
    "for k,v in corr_dict.items():\n",
    "    print(\"Class\", k)\n",
    "    plt.imshow(v)\n",
    "    plt.colorbar()\n",
    "    plt.show()"
   ]
  }
 ],
 "metadata": {
  "kernelspec": {
   "display_name": "Python 3",
   "language": "python",
   "name": "python3"
  },
  "language_info": {
   "codemirror_mode": {
    "name": "ipython",
    "version": 3
   },
   "file_extension": ".py",
   "mimetype": "text/x-python",
   "name": "python",
   "nbconvert_exporter": "python",
   "pygments_lexer": "ipython3",
   "version": "3.8.10"
  }
 },
 "nbformat": 4,
 "nbformat_minor": 5
}
